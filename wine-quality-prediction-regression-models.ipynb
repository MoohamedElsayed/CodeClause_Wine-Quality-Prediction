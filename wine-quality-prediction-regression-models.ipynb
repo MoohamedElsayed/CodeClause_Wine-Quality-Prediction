{
 "cells": [
  {
   "cell_type": "markdown",
   "id": "dc312d33",
   "metadata": {
    "papermill": {
     "duration": 0.013371,
     "end_time": "2023-02-15T13:17:44.255628",
     "exception": false,
     "start_time": "2023-02-15T13:17:44.242257",
     "status": "completed"
    },
    "tags": []
   },
   "source": [
    "## Import the main libraries"
   ]
  },
  {
   "cell_type": "markdown",
   "id": "c3b6214b",
   "metadata": {
    "papermill": {
     "duration": 0.012804,
     "end_time": "2023-02-15T13:17:44.280098",
     "exception": false,
     "start_time": "2023-02-15T13:17:44.267294",
     "status": "completed"
    },
    "tags": []
   },
   "source": []
  },
  {
   "cell_type": "code",
   "execution_count": 1,
   "id": "de319605",
   "metadata": {
    "execution": {
     "iopub.execute_input": "2023-02-15T13:17:44.307982Z",
     "iopub.status.busy": "2023-02-15T13:17:44.307436Z",
     "iopub.status.idle": "2023-02-15T13:17:45.790288Z",
     "shell.execute_reply": "2023-02-15T13:17:45.789300Z"
    },
    "papermill": {
     "duration": 1.498681,
     "end_time": "2023-02-15T13:17:45.792918",
     "exception": false,
     "start_time": "2023-02-15T13:17:44.294237",
     "status": "completed"
    },
    "tags": []
   },
   "outputs": [],
   "source": [
    "import pandas as pd\n",
    "import numpy as np\n",
    "import matplotlib.pyplot as plt\n",
    "%matplotlib inline\n",
    "import seaborn as sns\n",
    "\n",
    "from sklearn.preprocessing import StandardScaler,PolynomialFeatures\n",
    "\n",
    "from sklearn.model_selection import cross_val_score,cross_val_predict,RandomizedSearchCV, GridSearchCV\n",
    "from sklearn.linear_model import LinearRegression\n",
    "from xgboost import XGBRegressor\n",
    "from sklearn.ensemble import RandomForestRegressor\n",
    "from sklearn.metrics import cohen_kappa_score,make_scorer\n",
    "from sklearn.model_selection import train_test_split, StratifiedKFold, KFold\n",
    "from sklearn.model_selection import PredefinedSplit\n",
    "from catboost import CatBoostRegressor\n",
    "from imblearn.over_sampling import SMOTE\n",
    "from sklearn.ensemble import VotingRegressor"
   ]
  },
  {
   "cell_type": "code",
   "execution_count": 2,
   "id": "391bc59c",
   "metadata": {
    "execution": {
     "iopub.execute_input": "2023-02-15T13:17:45.817979Z",
     "iopub.status.busy": "2023-02-15T13:17:45.817609Z",
     "iopub.status.idle": "2023-02-15T13:17:45.822666Z",
     "shell.execute_reply": "2023-02-15T13:17:45.821774Z"
    },
    "papermill": {
     "duration": 0.020111,
     "end_time": "2023-02-15T13:17:45.824764",
     "exception": false,
     "start_time": "2023-02-15T13:17:45.804653",
     "status": "completed"
    },
    "tags": []
   },
   "outputs": [],
   "source": [
    "# function to return kappa score \n",
    "def kappa(estimator,X,y):\n",
    "    y_predict = estimator.predict(X)\n",
    "    y_predict = np.round(y_predict,decimals=0).astype(int)\n",
    "    score = cohen_kappa_score(y,y_predict,weights='quadratic')\n",
    "    return score"
   ]
  },
  {
   "cell_type": "markdown",
   "id": "aacdd7cd",
   "metadata": {
    "papermill": {
     "duration": 0.011523,
     "end_time": "2023-02-15T13:17:45.847776",
     "exception": false,
     "start_time": "2023-02-15T13:17:45.836253",
     "status": "completed"
    },
    "tags": []
   },
   "source": [
    "## Load the Dataset and look at the big picture "
   ]
  },
  {
   "cell_type": "code",
   "execution_count": 3,
   "id": "a478260b",
   "metadata": {
    "execution": {
     "iopub.execute_input": "2023-02-15T13:17:45.872358Z",
     "iopub.status.busy": "2023-02-15T13:17:45.872029Z",
     "iopub.status.idle": "2023-02-15T13:17:45.940763Z",
     "shell.execute_reply": "2023-02-15T13:17:45.939814Z"
    },
    "papermill": {
     "duration": 0.083526,
     "end_time": "2023-02-15T13:17:45.942789",
     "exception": false,
     "start_time": "2023-02-15T13:17:45.859263",
     "status": "completed"
    },
    "tags": []
   },
   "outputs": [
    {
     "data": {
      "text/html": [
       "<div>\n",
       "<style scoped>\n",
       "    .dataframe tbody tr th:only-of-type {\n",
       "        vertical-align: middle;\n",
       "    }\n",
       "\n",
       "    .dataframe tbody tr th {\n",
       "        vertical-align: top;\n",
       "    }\n",
       "\n",
       "    .dataframe thead th {\n",
       "        text-align: right;\n",
       "    }\n",
       "</style>\n",
       "<table border=\"1\" class=\"dataframe\">\n",
       "  <thead>\n",
       "    <tr style=\"text-align: right;\">\n",
       "      <th></th>\n",
       "      <th>fixed acidity</th>\n",
       "      <th>volatile acidity</th>\n",
       "      <th>citric acid</th>\n",
       "      <th>residual sugar</th>\n",
       "      <th>chlorides</th>\n",
       "      <th>free sulfur dioxide</th>\n",
       "      <th>total sulfur dioxide</th>\n",
       "      <th>density</th>\n",
       "      <th>pH</th>\n",
       "      <th>sulphates</th>\n",
       "      <th>alcohol</th>\n",
       "      <th>quality</th>\n",
       "    </tr>\n",
       "    <tr>\n",
       "      <th>Id</th>\n",
       "      <th></th>\n",
       "      <th></th>\n",
       "      <th></th>\n",
       "      <th></th>\n",
       "      <th></th>\n",
       "      <th></th>\n",
       "      <th></th>\n",
       "      <th></th>\n",
       "      <th></th>\n",
       "      <th></th>\n",
       "      <th></th>\n",
       "      <th></th>\n",
       "    </tr>\n",
       "  </thead>\n",
       "  <tbody>\n",
       "    <tr>\n",
       "      <th>0</th>\n",
       "      <td>8.0</td>\n",
       "      <td>0.50</td>\n",
       "      <td>0.39</td>\n",
       "      <td>2.2</td>\n",
       "      <td>0.073</td>\n",
       "      <td>30.0</td>\n",
       "      <td>39.0</td>\n",
       "      <td>0.99572</td>\n",
       "      <td>3.33</td>\n",
       "      <td>0.77</td>\n",
       "      <td>12.1</td>\n",
       "      <td>6</td>\n",
       "    </tr>\n",
       "    <tr>\n",
       "      <th>1</th>\n",
       "      <td>9.3</td>\n",
       "      <td>0.30</td>\n",
       "      <td>0.73</td>\n",
       "      <td>2.3</td>\n",
       "      <td>0.092</td>\n",
       "      <td>30.0</td>\n",
       "      <td>67.0</td>\n",
       "      <td>0.99854</td>\n",
       "      <td>3.32</td>\n",
       "      <td>0.67</td>\n",
       "      <td>12.8</td>\n",
       "      <td>6</td>\n",
       "    </tr>\n",
       "    <tr>\n",
       "      <th>2</th>\n",
       "      <td>7.1</td>\n",
       "      <td>0.51</td>\n",
       "      <td>0.03</td>\n",
       "      <td>2.1</td>\n",
       "      <td>0.059</td>\n",
       "      <td>3.0</td>\n",
       "      <td>12.0</td>\n",
       "      <td>0.99660</td>\n",
       "      <td>3.52</td>\n",
       "      <td>0.73</td>\n",
       "      <td>11.3</td>\n",
       "      <td>7</td>\n",
       "    </tr>\n",
       "    <tr>\n",
       "      <th>3</th>\n",
       "      <td>8.1</td>\n",
       "      <td>0.87</td>\n",
       "      <td>0.22</td>\n",
       "      <td>2.6</td>\n",
       "      <td>0.084</td>\n",
       "      <td>11.0</td>\n",
       "      <td>65.0</td>\n",
       "      <td>0.99730</td>\n",
       "      <td>3.20</td>\n",
       "      <td>0.53</td>\n",
       "      <td>9.8</td>\n",
       "      <td>5</td>\n",
       "    </tr>\n",
       "    <tr>\n",
       "      <th>4</th>\n",
       "      <td>8.5</td>\n",
       "      <td>0.36</td>\n",
       "      <td>0.30</td>\n",
       "      <td>2.3</td>\n",
       "      <td>0.079</td>\n",
       "      <td>10.0</td>\n",
       "      <td>45.0</td>\n",
       "      <td>0.99444</td>\n",
       "      <td>3.20</td>\n",
       "      <td>1.36</td>\n",
       "      <td>9.5</td>\n",
       "      <td>6</td>\n",
       "    </tr>\n",
       "  </tbody>\n",
       "</table>\n",
       "</div>"
      ],
      "text/plain": [
       "    fixed acidity  volatile acidity  citric acid  residual sugar  chlorides  \\\n",
       "Id                                                                            \n",
       "0             8.0              0.50         0.39             2.2      0.073   \n",
       "1             9.3              0.30         0.73             2.3      0.092   \n",
       "2             7.1              0.51         0.03             2.1      0.059   \n",
       "3             8.1              0.87         0.22             2.6      0.084   \n",
       "4             8.5              0.36         0.30             2.3      0.079   \n",
       "\n",
       "    free sulfur dioxide  total sulfur dioxide  density    pH  sulphates  \\\n",
       "Id                                                                        \n",
       "0                  30.0                  39.0  0.99572  3.33       0.77   \n",
       "1                  30.0                  67.0  0.99854  3.32       0.67   \n",
       "2                   3.0                  12.0  0.99660  3.52       0.73   \n",
       "3                  11.0                  65.0  0.99730  3.20       0.53   \n",
       "4                  10.0                  45.0  0.99444  3.20       1.36   \n",
       "\n",
       "    alcohol  quality  \n",
       "Id                    \n",
       "0      12.1        6  \n",
       "1      12.8        6  \n",
       "2      11.3        7  \n",
       "3       9.8        5  \n",
       "4       9.5        6  "
      ]
     },
     "execution_count": 3,
     "metadata": {},
     "output_type": "execute_result"
    }
   ],
   "source": [
    "#read the csv file using pandas \n",
    "train_url = '/kaggle/input/playground-series-s3e5/train.csv'\n",
    "test_url = '/kaggle/input/playground-series-s3e5/test.csv'\n",
    "org_data_url = '/kaggle/input/wine-quality-dataset/WineQT.csv'\n",
    "df_wine = pd.read_csv(train_url, index_col = 'Id')\n",
    "df_org = pd.read_csv(org_data_url, index_col = 'Id')\n",
    "df_test = pd.read_csv(test_url, index_col = 'Id')\n",
    "#adding org data to our dataset\n",
    "df_wine = pd.concat([df_wine,df_org])\n",
    "#show the head of the df\n",
    "df_wine.head()"
   ]
  },
  {
   "cell_type": "code",
   "execution_count": 4,
   "id": "71b54fad",
   "metadata": {
    "execution": {
     "iopub.execute_input": "2023-02-15T13:17:45.977040Z",
     "iopub.status.busy": "2023-02-15T13:17:45.976604Z",
     "iopub.status.idle": "2023-02-15T13:17:46.002102Z",
     "shell.execute_reply": "2023-02-15T13:17:46.000578Z"
    },
    "papermill": {
     "duration": 0.050159,
     "end_time": "2023-02-15T13:17:46.005386",
     "exception": false,
     "start_time": "2023-02-15T13:17:45.955227",
     "status": "completed"
    },
    "tags": []
   },
   "outputs": [
    {
     "name": "stdout",
     "output_type": "stream",
     "text": [
      "<class 'pandas.core.frame.DataFrame'>\n",
      "Int64Index: 3199 entries, 0 to 1597\n",
      "Data columns (total 12 columns):\n",
      " #   Column                Non-Null Count  Dtype  \n",
      "---  ------                --------------  -----  \n",
      " 0   fixed acidity         3199 non-null   float64\n",
      " 1   volatile acidity      3199 non-null   float64\n",
      " 2   citric acid           3199 non-null   float64\n",
      " 3   residual sugar        3199 non-null   float64\n",
      " 4   chlorides             3199 non-null   float64\n",
      " 5   free sulfur dioxide   3199 non-null   float64\n",
      " 6   total sulfur dioxide  3199 non-null   float64\n",
      " 7   density               3199 non-null   float64\n",
      " 8   pH                    3199 non-null   float64\n",
      " 9   sulphates             3199 non-null   float64\n",
      " 10  alcohol               3199 non-null   float64\n",
      " 11  quality               3199 non-null   int64  \n",
      "dtypes: float64(11), int64(1)\n",
      "memory usage: 324.9 KB\n"
     ]
    }
   ],
   "source": [
    "#showing some info about the dataset\n",
    "df_wine.info()"
   ]
  },
  {
   "cell_type": "code",
   "execution_count": 5,
   "id": "dac741be",
   "metadata": {
    "execution": {
     "iopub.execute_input": "2023-02-15T13:17:46.046430Z",
     "iopub.status.busy": "2023-02-15T13:17:46.046109Z",
     "iopub.status.idle": "2023-02-15T13:17:46.090071Z",
     "shell.execute_reply": "2023-02-15T13:17:46.088948Z"
    },
    "papermill": {
     "duration": 0.060512,
     "end_time": "2023-02-15T13:17:46.092504",
     "exception": false,
     "start_time": "2023-02-15T13:17:46.031992",
     "status": "completed"
    },
    "tags": []
   },
   "outputs": [
    {
     "data": {
      "text/html": [
       "<div>\n",
       "<style scoped>\n",
       "    .dataframe tbody tr th:only-of-type {\n",
       "        vertical-align: middle;\n",
       "    }\n",
       "\n",
       "    .dataframe tbody tr th {\n",
       "        vertical-align: top;\n",
       "    }\n",
       "\n",
       "    .dataframe thead th {\n",
       "        text-align: right;\n",
       "    }\n",
       "</style>\n",
       "<table border=\"1\" class=\"dataframe\">\n",
       "  <thead>\n",
       "    <tr style=\"text-align: right;\">\n",
       "      <th></th>\n",
       "      <th>fixed acidity</th>\n",
       "      <th>volatile acidity</th>\n",
       "      <th>citric acid</th>\n",
       "      <th>residual sugar</th>\n",
       "      <th>chlorides</th>\n",
       "      <th>free sulfur dioxide</th>\n",
       "      <th>total sulfur dioxide</th>\n",
       "      <th>density</th>\n",
       "      <th>pH</th>\n",
       "      <th>sulphates</th>\n",
       "      <th>alcohol</th>\n",
       "      <th>quality</th>\n",
       "    </tr>\n",
       "  </thead>\n",
       "  <tbody>\n",
       "    <tr>\n",
       "      <th>count</th>\n",
       "      <td>3199.000000</td>\n",
       "      <td>3199.000000</td>\n",
       "      <td>3199.000000</td>\n",
       "      <td>3199.000000</td>\n",
       "      <td>3199.00000</td>\n",
       "      <td>3199.000000</td>\n",
       "      <td>3199.000000</td>\n",
       "      <td>3199.000000</td>\n",
       "      <td>3199.000000</td>\n",
       "      <td>3199.000000</td>\n",
       "      <td>3199.000000</td>\n",
       "      <td>3199.000000</td>\n",
       "    </tr>\n",
       "    <tr>\n",
       "      <th>mean</th>\n",
       "      <td>8.345858</td>\n",
       "      <td>0.528936</td>\n",
       "      <td>0.266239</td>\n",
       "      <td>2.446499</td>\n",
       "      <td>0.08367</td>\n",
       "      <td>16.477024</td>\n",
       "      <td>48.049859</td>\n",
       "      <td>0.996742</td>\n",
       "      <td>3.310728</td>\n",
       "      <td>0.647168</td>\n",
       "      <td>10.424669</td>\n",
       "      <td>5.698031</td>\n",
       "    </tr>\n",
       "    <tr>\n",
       "      <th>std</th>\n",
       "      <td>1.720511</td>\n",
       "      <td>0.175484</td>\n",
       "      <td>0.191294</td>\n",
       "      <td>1.065161</td>\n",
       "      <td>0.03414</td>\n",
       "      <td>10.115222</td>\n",
       "      <td>32.930681</td>\n",
       "      <td>0.001863</td>\n",
       "      <td>0.147582</td>\n",
       "      <td>0.150524</td>\n",
       "      <td>1.048119</td>\n",
       "      <td>0.836977</td>\n",
       "    </tr>\n",
       "    <tr>\n",
       "      <th>min</th>\n",
       "      <td>4.600000</td>\n",
       "      <td>0.120000</td>\n",
       "      <td>0.000000</td>\n",
       "      <td>0.900000</td>\n",
       "      <td>0.01200</td>\n",
       "      <td>1.000000</td>\n",
       "      <td>6.000000</td>\n",
       "      <td>0.990070</td>\n",
       "      <td>2.740000</td>\n",
       "      <td>0.330000</td>\n",
       "      <td>8.400000</td>\n",
       "      <td>3.000000</td>\n",
       "    </tr>\n",
       "    <tr>\n",
       "      <th>25%</th>\n",
       "      <td>7.100000</td>\n",
       "      <td>0.390000</td>\n",
       "      <td>0.090000</td>\n",
       "      <td>1.900000</td>\n",
       "      <td>0.07100</td>\n",
       "      <td>7.000000</td>\n",
       "      <td>22.000000</td>\n",
       "      <td>0.995580</td>\n",
       "      <td>3.200000</td>\n",
       "      <td>0.550000</td>\n",
       "      <td>9.500000</td>\n",
       "      <td>5.000000</td>\n",
       "    </tr>\n",
       "    <tr>\n",
       "      <th>50%</th>\n",
       "      <td>7.900000</td>\n",
       "      <td>0.520000</td>\n",
       "      <td>0.250000</td>\n",
       "      <td>2.200000</td>\n",
       "      <td>0.07900</td>\n",
       "      <td>15.000000</td>\n",
       "      <td>42.000000</td>\n",
       "      <td>0.996700</td>\n",
       "      <td>3.310000</td>\n",
       "      <td>0.620000</td>\n",
       "      <td>10.100000</td>\n",
       "      <td>6.000000</td>\n",
       "    </tr>\n",
       "    <tr>\n",
       "      <th>75%</th>\n",
       "      <td>9.100000</td>\n",
       "      <td>0.640000</td>\n",
       "      <td>0.420000</td>\n",
       "      <td>2.600000</td>\n",
       "      <td>0.09000</td>\n",
       "      <td>23.000000</td>\n",
       "      <td>64.000000</td>\n",
       "      <td>0.997800</td>\n",
       "      <td>3.390000</td>\n",
       "      <td>0.720000</td>\n",
       "      <td>11.100000</td>\n",
       "      <td>6.000000</td>\n",
       "    </tr>\n",
       "    <tr>\n",
       "      <th>max</th>\n",
       "      <td>15.900000</td>\n",
       "      <td>1.580000</td>\n",
       "      <td>1.000000</td>\n",
       "      <td>15.500000</td>\n",
       "      <td>0.61100</td>\n",
       "      <td>68.000000</td>\n",
       "      <td>289.000000</td>\n",
       "      <td>1.003690</td>\n",
       "      <td>4.010000</td>\n",
       "      <td>2.000000</td>\n",
       "      <td>14.900000</td>\n",
       "      <td>8.000000</td>\n",
       "    </tr>\n",
       "  </tbody>\n",
       "</table>\n",
       "</div>"
      ],
      "text/plain": [
       "       fixed acidity  volatile acidity  citric acid  residual sugar  \\\n",
       "count    3199.000000       3199.000000  3199.000000     3199.000000   \n",
       "mean        8.345858          0.528936     0.266239        2.446499   \n",
       "std         1.720511          0.175484     0.191294        1.065161   \n",
       "min         4.600000          0.120000     0.000000        0.900000   \n",
       "25%         7.100000          0.390000     0.090000        1.900000   \n",
       "50%         7.900000          0.520000     0.250000        2.200000   \n",
       "75%         9.100000          0.640000     0.420000        2.600000   \n",
       "max        15.900000          1.580000     1.000000       15.500000   \n",
       "\n",
       "        chlorides  free sulfur dioxide  total sulfur dioxide      density  \\\n",
       "count  3199.00000          3199.000000           3199.000000  3199.000000   \n",
       "mean      0.08367            16.477024             48.049859     0.996742   \n",
       "std       0.03414            10.115222             32.930681     0.001863   \n",
       "min       0.01200             1.000000              6.000000     0.990070   \n",
       "25%       0.07100             7.000000             22.000000     0.995580   \n",
       "50%       0.07900            15.000000             42.000000     0.996700   \n",
       "75%       0.09000            23.000000             64.000000     0.997800   \n",
       "max       0.61100            68.000000            289.000000     1.003690   \n",
       "\n",
       "                pH    sulphates      alcohol      quality  \n",
       "count  3199.000000  3199.000000  3199.000000  3199.000000  \n",
       "mean      3.310728     0.647168    10.424669     5.698031  \n",
       "std       0.147582     0.150524     1.048119     0.836977  \n",
       "min       2.740000     0.330000     8.400000     3.000000  \n",
       "25%       3.200000     0.550000     9.500000     5.000000  \n",
       "50%       3.310000     0.620000    10.100000     6.000000  \n",
       "75%       3.390000     0.720000    11.100000     6.000000  \n",
       "max       4.010000     2.000000    14.900000     8.000000  "
      ]
     },
     "execution_count": 5,
     "metadata": {},
     "output_type": "execute_result"
    }
   ],
   "source": [
    "#showing some statics about the dataset\n",
    "df_wine.describe()"
   ]
  },
  {
   "cell_type": "code",
   "execution_count": 6,
   "id": "1fae39cc",
   "metadata": {
    "execution": {
     "iopub.execute_input": "2023-02-15T13:17:46.118773Z",
     "iopub.status.busy": "2023-02-15T13:17:46.117968Z",
     "iopub.status.idle": "2023-02-15T13:17:46.126322Z",
     "shell.execute_reply": "2023-02-15T13:17:46.125267Z"
    },
    "papermill": {
     "duration": 0.023668,
     "end_time": "2023-02-15T13:17:46.128525",
     "exception": false,
     "start_time": "2023-02-15T13:17:46.104857",
     "status": "completed"
    },
    "tags": []
   },
   "outputs": [
    {
     "data": {
      "text/plain": [
       "fixed acidity           0\n",
       "volatile acidity        0\n",
       "citric acid             0\n",
       "residual sugar          0\n",
       "chlorides               0\n",
       "free sulfur dioxide     0\n",
       "total sulfur dioxide    0\n",
       "density                 0\n",
       "pH                      0\n",
       "sulphates               0\n",
       "alcohol                 0\n",
       "quality                 0\n",
       "dtype: int64"
      ]
     },
     "execution_count": 6,
     "metadata": {},
     "output_type": "execute_result"
    }
   ],
   "source": [
    "#checking for nulls\n",
    "df_wine.isnull().sum()"
   ]
  },
  {
   "cell_type": "markdown",
   "id": "a779627f",
   "metadata": {
    "papermill": {
     "duration": 0.012475,
     "end_time": "2023-02-15T13:17:46.154701",
     "exception": false,
     "start_time": "2023-02-15T13:17:46.142226",
     "status": "completed"
    },
    "tags": []
   },
   "source": [
    "* > `Dataset contains 3199 instances with no null values. All the datatypes are float64 with continuous numerical features except the target value which is int64.`"
   ]
  },
  {
   "cell_type": "markdown",
   "id": "19b15c9b",
   "metadata": {
    "papermill": {
     "duration": 0.011992,
     "end_time": "2023-02-15T13:17:46.179346",
     "exception": false,
     "start_time": "2023-02-15T13:17:46.167354",
     "status": "completed"
    },
    "tags": []
   },
   "source": [
    "# Exploratory Data Analysis"
   ]
  },
  {
   "cell_type": "code",
   "execution_count": 7,
   "id": "93abb166",
   "metadata": {
    "execution": {
     "iopub.execute_input": "2023-02-15T13:17:46.205423Z",
     "iopub.status.busy": "2023-02-15T13:17:46.205101Z",
     "iopub.status.idle": "2023-02-15T13:17:46.436730Z",
     "shell.execute_reply": "2023-02-15T13:17:46.435809Z"
    },
    "papermill": {
     "duration": 0.247003,
     "end_time": "2023-02-15T13:17:46.438752",
     "exception": false,
     "start_time": "2023-02-15T13:17:46.191749",
     "status": "completed"
    },
    "tags": []
   },
   "outputs": [
    {
     "data": {
      "image/png": "[encoded data removed]",
      "text/plain": [
       "<Figure size 1152x432 with 1 Axes>"
      ]
     },
     "metadata": {
      "needs_background": "light"
     },
     "output_type": "display_data"
    }
   ],
   "source": [
    "#Checking the distripution of the target column (quality)\n",
    "plt.figure(figsize=(16,6))\n",
    "sns.countplot(x=df_wine['quality'])\n",
    "plt.title('Count plot of the target column (quality)')\n",
    "plt.xlabel('quality',fontsize=16,c='k')\n",
    "plt.ylabel('count',fontsize=16,c='k')\n",
    "plt.show()"
   ]
  },
  {
   "cell_type": "markdown",
   "id": "15f46b0a",
   "metadata": {
    "papermill": {
     "duration": 0.012133,
     "end_time": "2023-02-15T13:17:46.463413",
     "exception": false,
     "start_time": "2023-02-15T13:17:46.451280",
     "status": "completed"
    },
    "tags": []
   },
   "source": [
    "### It seems like out target value lacks some ratings (1,2,9,10) and the majority of the ratings are 5 and 6, our target column is imbalanced which is not good."
   ]
  },
  {
   "cell_type": "code",
   "execution_count": 8,
   "id": "b0413df8",
   "metadata": {
    "execution": {
     "iopub.execute_input": "2023-02-15T13:17:46.489935Z",
     "iopub.status.busy": "2023-02-15T13:17:46.489069Z",
     "iopub.status.idle": "2023-02-15T13:17:48.249848Z",
     "shell.execute_reply": "2023-02-15T13:17:48.248965Z"
    },
    "papermill": {
     "duration": 1.776729,
     "end_time": "2023-02-15T13:17:48.252480",
     "exception": false,
     "start_time": "2023-02-15T13:17:46.475751",
     "status": "completed"
    },
    "tags": []
   },
   "outputs": [
    {
     "data": {
      "image/png": "[encoded data removed]",
      "text/plain": [
       "<Figure size 1440x1080 with 12 Axes>"
      ]
     },
     "metadata": {
      "needs_background": "light"
     },
     "output_type": "display_data"
    }
   ],
   "source": [
    "#histogram distripution of numerical features in the dataset\n",
    "df_wine.hist(figsize=(20,15))\n",
    "plt.show()"
   ]
  },
  {
   "cell_type": "markdown",
   "id": "937d5d60",
   "metadata": {
    "papermill": {
     "duration": 0.018925,
     "end_time": "2023-02-15T13:17:48.292454",
     "exception": false,
     "start_time": "2023-02-15T13:17:48.273529",
     "status": "completed"
    },
    "tags": []
   },
   "source": [
    "### it seems that some of the features are right skewed (exponential distribution), and it is known that the best distribution to be passed to the model is Normal Distribution, so we need to deal with this distributions."
   ]
  },
  {
   "cell_type": "code",
   "execution_count": 9,
   "id": "8548c7e8",
   "metadata": {
    "execution": {
     "iopub.execute_input": "2023-02-15T13:17:48.334563Z",
     "iopub.status.busy": "2023-02-15T13:17:48.334173Z",
     "iopub.status.idle": "2023-02-15T13:17:48.598803Z",
     "shell.execute_reply": "2023-02-15T13:17:48.597819Z"
    },
    "papermill": {
     "duration": 0.287631,
     "end_time": "2023-02-15T13:17:48.600824",
     "exception": false,
     "start_time": "2023-02-15T13:17:48.313193",
     "status": "completed"
    },
    "tags": []
   },
   "outputs": [
    {
     "data": {
      "image/png": "[encoded data removed]",
      "text/plain": [
       "<Figure size 1152x432 with 1 Axes>"
      ]
     },
     "metadata": {
      "needs_background": "light"
     },
     "output_type": "display_data"
    }
   ],
   "source": [
    "#cutting the numerical feature (residual sugar) into categorical one \n",
    "residual_sugar_bins = pd.cut(x=df_wine['residual sugar'],bins=[-np.inf,2,4,6,8,10,12,np.inf],\n",
    "                            labels=['0-2', '2-4', '4-6', '6-8','8-10','10-12','12<'])\n",
    "\n",
    "#count plot for the above chunks\n",
    "plt.figure(figsize=(16,6))\n",
    "sns.countplot(x=residual_sugar_bins)\n",
    "plt.title('Count plot of residual sugar bins in the dataset',fontsize=16,c='k')\n",
    "plt.xlabel('residual sugar bins values',fontsize=16,c='k')\n",
    "plt.ylabel('count',fontsize=16,c='k')\n",
    "plt.show()"
   ]
  },
  {
   "cell_type": "code",
   "execution_count": 10,
   "id": "9af368d5",
   "metadata": {
    "execution": {
     "iopub.execute_input": "2023-02-15T13:17:48.629457Z",
     "iopub.status.busy": "2023-02-15T13:17:48.629141Z",
     "iopub.status.idle": "2023-02-15T13:17:48.840109Z",
     "shell.execute_reply": "2023-02-15T13:17:48.839179Z"
    },
    "papermill": {
     "duration": 0.22745,
     "end_time": "2023-02-15T13:17:48.842158",
     "exception": false,
     "start_time": "2023-02-15T13:17:48.614708",
     "status": "completed"
    },
    "tags": []
   },
   "outputs": [
    {
     "data": {
      "image/png": "[encoded data removed]",
      "text/plain": [
       "<Figure size 1152x432 with 1 Axes>"
      ]
     },
     "metadata": {
      "needs_background": "light"
     },
     "output_type": "display_data"
    }
   ],
   "source": [
    "#lets try the same approach for fixid acidity feature\n",
    "fixid_acidity_bins = pd.cut(x=df_wine['fixed acidity'],bins=[-np.inf,7,9,11,13,np.inf],\n",
    "                            labels=['<5', '5-7', '7-9', '9-11','13<'])\n",
    "\n",
    "#count plot for the above chunks\n",
    "plt.figure(figsize=(16,6))\n",
    "sns.countplot(x=fixid_acidity_bins)\n",
    "plt.title('Count plot of fixid acidity bins in the dataset',fontsize=16,c='k')\n",
    "plt.xlabel('fixid acidity bins values',fontsize=16,c='k')\n",
    "plt.ylabel('count',fontsize=16,c='k')\n",
    "plt.show()"
   ]
  },
  {
   "cell_type": "markdown",
   "id": "a98ba2d6",
   "metadata": {
    "papermill": {
     "duration": 0.013798,
     "end_time": "2023-02-15T13:17:48.870007",
     "exception": false,
     "start_time": "2023-02-15T13:17:48.856209",
     "status": "completed"
    },
    "tags": []
   },
   "source": [
    "> #### it seems that the majority of alcohol values are between (2-4), also the majority fixid acidity values are between (5-7)"
   ]
  },
  {
   "cell_type": "code",
   "execution_count": 11,
   "id": "6f43aa40",
   "metadata": {
    "execution": {
     "iopub.execute_input": "2023-02-15T13:17:48.899820Z",
     "iopub.status.busy": "2023-02-15T13:17:48.898777Z",
     "iopub.status.idle": "2023-02-15T13:17:49.149850Z",
     "shell.execute_reply": "2023-02-15T13:17:49.148957Z"
    },
    "papermill": {
     "duration": 0.270262,
     "end_time": "2023-02-15T13:17:49.153948",
     "exception": false,
     "start_time": "2023-02-15T13:17:48.883686",
     "status": "completed"
    },
    "tags": []
   },
   "outputs": [
    {
     "data": {
      "image/png": "[encoded data removed]",
      "text/plain": [
       "<Figure size 1152x432 with 1 Axes>"
      ]
     },
     "metadata": {
      "needs_background": "light"
     },
     "output_type": "display_data"
    }
   ],
   "source": [
    "#Boxplot of alcohol values at diffrent quality ratings\n",
    "plt.figure(figsize=(16,6))\n",
    "sns.boxplot(y='alcohol',x='quality',data=df_wine)\n",
    "plt.title('Boxplot of alcohol values at diffrent quality ratings ',fontsize=16,c='k')\n",
    "plt.xlabel('quality',fontsize=16,c='k')\n",
    "plt.ylabel('alcohol',fontsize=16,c='k')\n",
    "plt.show()"
   ]
  },
  {
   "cell_type": "markdown",
   "id": "e6e1f3c1",
   "metadata": {
    "papermill": {
     "duration": 0.014041,
     "end_time": "2023-02-15T13:17:49.183393",
     "exception": false,
     "start_time": "2023-02-15T13:17:49.169352",
     "status": "completed"
    },
    "tags": []
   },
   "source": [
    "> #### it seems that the more alcohol the better quality the wine be"
   ]
  },
  {
   "cell_type": "code",
   "execution_count": 12,
   "id": "f6997e8f",
   "metadata": {
    "execution": {
     "iopub.execute_input": "2023-02-15T13:17:49.212649Z",
     "iopub.status.busy": "2023-02-15T13:17:49.212251Z",
     "iopub.status.idle": "2023-02-15T13:17:50.921303Z",
     "shell.execute_reply": "2023-02-15T13:17:50.920294Z"
    },
    "papermill": {
     "duration": 1.726434,
     "end_time": "2023-02-15T13:17:50.923671",
     "exception": false,
     "start_time": "2023-02-15T13:17:49.197237",
     "status": "completed"
    },
    "tags": []
   },
   "outputs": [
    {
     "data": {
      "image/png": "[encoded data removed]",
      "text/plain": [
       "<Figure size 1152x432 with 1 Axes>"
      ]
     },
     "metadata": {
      "needs_background": "light"
     },
     "output_type": "display_data"
    }
   ],
   "source": [
    "#swarmplot of pH values at diffrent quality ratings\n",
    "plt.figure(figsize=(16,6))\n",
    "sns.swarmplot(y='pH',x='quality',data=df_wine,size=2)\n",
    "plt.title('Swarm plot of pH feature at different quality ratings ',fontsize=16,c='k')\n",
    "plt.xlabel('quality',fontsize=16,c='k')\n",
    "plt.ylabel('pH',fontsize=16,c='k')\n",
    "plt.show()"
   ]
  },
  {
   "cell_type": "code",
   "execution_count": 13,
   "id": "b79451b1",
   "metadata": {
    "execution": {
     "iopub.execute_input": "2023-02-15T13:17:50.955259Z",
     "iopub.status.busy": "2023-02-15T13:17:50.954921Z",
     "iopub.status.idle": "2023-02-15T13:17:51.194664Z",
     "shell.execute_reply": "2023-02-15T13:17:51.193654Z"
    },
    "papermill": {
     "duration": 0.257957,
     "end_time": "2023-02-15T13:17:51.196817",
     "exception": false,
     "start_time": "2023-02-15T13:17:50.938860",
     "status": "completed"
    },
    "tags": []
   },
   "outputs": [
    {
     "data": {
      "image/png": "[encoded data removed]",
      "text/plain": [
       "<Figure size 1152x432 with 1 Axes>"
      ]
     },
     "metadata": {
      "needs_background": "light"
     },
     "output_type": "display_data"
    }
   ],
   "source": [
    "#Stripplot of chlorides values at diffrent quality ratings\n",
    "plt.figure(figsize=(16,6))\n",
    "sns.stripplot(y='chlorides',x='quality',data=df_wine)\n",
    "plt.title('Strip plot of chlorides feature at different quality ratings ',fontsize=16,c='k')\n",
    "plt.xlabel('quality',fontsize=16,c='k')\n",
    "plt.ylabel('chlorides',fontsize=16,c='k')\n",
    "plt.show()"
   ]
  },
  {
   "cell_type": "markdown",
   "id": "2c7947a6",
   "metadata": {
    "papermill": {
     "duration": 0.015092,
     "end_time": "2023-02-15T13:17:51.227561",
     "exception": false,
     "start_time": "2023-02-15T13:17:51.212469",
     "status": "completed"
    },
    "tags": []
   },
   "source": [
    "> #### It seems that the Distributions of pH and chlorides are almost the same at different quality values"
   ]
  },
  {
   "cell_type": "markdown",
   "id": "088f039d",
   "metadata": {
    "papermill": {
     "duration": 0.014984,
     "end_time": "2023-02-15T13:17:51.258071",
     "exception": false,
     "start_time": "2023-02-15T13:17:51.243087",
     "status": "completed"
    },
    "tags": []
   },
   "source": [
    "### `Checking the Correlation between the Features and Target`"
   ]
  },
  {
   "cell_type": "code",
   "execution_count": 14,
   "id": "864022a0",
   "metadata": {
    "execution": {
     "iopub.execute_input": "2023-02-15T13:17:51.292148Z",
     "iopub.status.busy": "2023-02-15T13:17:51.290209Z",
     "iopub.status.idle": "2023-02-15T13:17:51.301649Z",
     "shell.execute_reply": "2023-02-15T13:17:51.300583Z"
    },
    "papermill": {
     "duration": 0.030493,
     "end_time": "2023-02-15T13:17:51.303855",
     "exception": false,
     "start_time": "2023-02-15T13:17:51.273362",
     "status": "completed"
    },
    "tags": []
   },
   "outputs": [
    {
     "data": {
      "text/plain": [
       "quality                 1.000000\n",
       "alcohol                 0.482102\n",
       "sulphates               0.318649\n",
       "citric acid             0.176236\n",
       "fixed acidity           0.091092\n",
       "residual sugar          0.032871\n",
       "pH                     -0.008851\n",
       "free sulfur dioxide    -0.058752\n",
       "chlorides              -0.082893\n",
       "density                -0.160544\n",
       "total sulfur dioxide   -0.208935\n",
       "volatile acidity       -0.285484\n",
       "Name: quality, dtype: float64"
      ]
     },
     "execution_count": 14,
     "metadata": {},
     "output_type": "execute_result"
    }
   ],
   "source": [
    "# correlation using pearson method\n",
    "df_wine.corr(method='pearson')['quality'].sort_values(ascending=False)"
   ]
  },
  {
   "cell_type": "code",
   "execution_count": 15,
   "id": "d96476bf",
   "metadata": {
    "execution": {
     "iopub.execute_input": "2023-02-15T13:17:51.339466Z",
     "iopub.status.busy": "2023-02-15T13:17:51.338508Z",
     "iopub.status.idle": "2023-02-15T13:17:52.135656Z",
     "shell.execute_reply": "2023-02-15T13:17:52.134821Z"
    },
    "papermill": {
     "duration": 0.816983,
     "end_time": "2023-02-15T13:17:52.137728",
     "exception": false,
     "start_time": "2023-02-15T13:17:51.320745",
     "status": "completed"
    },
    "tags": []
   },
   "outputs": [
    {
     "data": {
      "image/png": "[encoded data removed]",
      "text/plain": [
       "<Figure size 1152x432 with 2 Axes>"
      ]
     },
     "metadata": {
      "needs_background": "light"
     },
     "output_type": "display_data"
    }
   ],
   "source": [
    "#showing the correlation as a heatmap\n",
    "plt.figure(figsize=(16,6))\n",
    "sns.heatmap(df_wine.corr(method='pearson'), annot=True, cmap='viridis')\n",
    "plt.show()"
   ]
  },
  {
   "cell_type": "markdown",
   "id": "2141b67a",
   "metadata": {
    "papermill": {
     "duration": 0.016571,
     "end_time": "2023-02-15T13:17:52.171452",
     "exception": false,
     "start_time": "2023-02-15T13:17:52.154881",
     "status": "completed"
    },
    "tags": []
   },
   "source": [
    "> ### it seems that the most correlated feature with the target is alcohol and features like pH is the least correlated"
   ]
  },
  {
   "cell_type": "markdown",
   "id": "b10871d5",
   "metadata": {
    "papermill": {
     "duration": 0.016242,
     "end_time": "2023-02-15T13:17:52.204278",
     "exception": false,
     "start_time": "2023-02-15T13:17:52.188036",
     "status": "completed"
    },
    "tags": []
   },
   "source": [
    "# `Feature Engineering `"
   ]
  },
  {
   "cell_type": "markdown",
   "id": "0767e1e6",
   "metadata": {
    "papermill": {
     "duration": 0.016208,
     "end_time": "2023-02-15T13:17:52.236740",
     "exception": false,
     "start_time": "2023-02-15T13:17:52.220532",
     "status": "completed"
    },
    "tags": []
   },
   "source": [
    "#### `Trying to add some features, thinking that it will be more useful and more correlated to the target`"
   ]
  },
  {
   "cell_type": "code",
   "execution_count": 16,
   "id": "2a1b4909",
   "metadata": {
    "execution": {
     "iopub.execute_input": "2023-02-15T13:17:52.271316Z",
     "iopub.status.busy": "2023-02-15T13:17:52.270969Z",
     "iopub.status.idle": "2023-02-15T13:17:52.279715Z",
     "shell.execute_reply": "2023-02-15T13:17:52.278693Z"
    },
    "papermill": {
     "duration": 0.028719,
     "end_time": "2023-02-15T13:17:52.281790",
     "exception": false,
     "start_time": "2023-02-15T13:17:52.253071",
     "status": "completed"
    },
    "tags": []
   },
   "outputs": [],
   "source": [
    "def add_features(df):\n",
    "    # Ideas from the discussions\n",
    "    # some work, some don't. At your own risk...\n",
    "    \n",
    "    df['mso2'] = df['free sulfur dioxide']/(1+ 10**(df['pH'] -1.81))\n",
    "    df['alcohol_pH'] = df['alcohol'] * df['pH']\n",
    "\n",
    "    df['alcohol_residual_sugar'] = df['alcohol'] * df['residual sugar']\n",
    "\n",
    "    df['pH_residual_sugar'] = df['pH'] * df['residual sugar']\n",
    "\n",
    "    df['alcohol_citric_acid'] = df['alcohol'] * df['citric acid']\n",
    "\n",
    "    df['total_acid'] = df['fixed acidity'] + df['volatile acidity'] + df['citric acid']\n",
    "    df['acid/density'] = df['total_acid']  / df['density']\n",
    "    df['alcohol_density'] = df['alcohol']  * df['density']\n",
    "    df['sulphate/density'] = df['sulphates']  / df['density']\n",
    "    df['sulphates/acid'] = df['sulphates'] / df['volatile acidity']\n",
    "    df['sulphates/chlorides'] = df['sulphates'] / df['chlorides']\n",
    "    df['sulphates/alcohol'] = df['sulphates'] / df['alcohol']\n",
    "    df['acidity_ratio'] = df['fixed acidity'] / df['volatile acidity']\n",
    "    df['sugar_to_chlorides'] = df['residual sugar'] / df['chlorides']\n",
    "    df['alcohol_to_density'] = df['alcohol'] / df['density']\n",
    "    # Create interaction features between alcohol content and volatile acidity\n",
    "    df['alcohol_volatile_acidity'] = df['alcohol'] * df['volatile acidity']\n",
    "    return df"
   ]
  },
  {
   "cell_type": "code",
   "execution_count": 17,
   "id": "ed39a923",
   "metadata": {
    "execution": {
     "iopub.execute_input": "2023-02-15T13:17:52.316121Z",
     "iopub.status.busy": "2023-02-15T13:17:52.315308Z",
     "iopub.status.idle": "2023-02-15T13:17:52.356880Z",
     "shell.execute_reply": "2023-02-15T13:17:52.355766Z"
    },
    "papermill": {
     "duration": 0.061458,
     "end_time": "2023-02-15T13:17:52.359468",
     "exception": false,
     "start_time": "2023-02-15T13:17:52.298010",
     "status": "completed"
    },
    "tags": []
   },
   "outputs": [
    {
     "data": {
      "text/html": [
       "<div>\n",
       "<style scoped>\n",
       "    .dataframe tbody tr th:only-of-type {\n",
       "        vertical-align: middle;\n",
       "    }\n",
       "\n",
       "    .dataframe tbody tr th {\n",
       "        vertical-align: top;\n",
       "    }\n",
       "\n",
       "    .dataframe thead th {\n",
       "        text-align: right;\n",
       "    }\n",
       "</style>\n",
       "<table border=\"1\" class=\"dataframe\">\n",
       "  <thead>\n",
       "    <tr style=\"text-align: right;\">\n",
       "      <th></th>\n",
       "      <th>fixed acidity</th>\n",
       "      <th>volatile acidity</th>\n",
       "      <th>citric acid</th>\n",
       "      <th>residual sugar</th>\n",
       "      <th>chlorides</th>\n",
       "      <th>free sulfur dioxide</th>\n",
       "      <th>total sulfur dioxide</th>\n",
       "      <th>density</th>\n",
       "      <th>pH</th>\n",
       "      <th>sulphates</th>\n",
       "      <th>...</th>\n",
       "      <th>acid/density</th>\n",
       "      <th>alcohol_density</th>\n",
       "      <th>sulphate/density</th>\n",
       "      <th>sulphates/acid</th>\n",
       "      <th>sulphates/chlorides</th>\n",
       "      <th>sulphates/alcohol</th>\n",
       "      <th>acidity_ratio</th>\n",
       "      <th>sugar_to_chlorides</th>\n",
       "      <th>alcohol_to_density</th>\n",
       "      <th>alcohol_volatile_acidity</th>\n",
       "    </tr>\n",
       "    <tr>\n",
       "      <th>Id</th>\n",
       "      <th></th>\n",
       "      <th></th>\n",
       "      <th></th>\n",
       "      <th></th>\n",
       "      <th></th>\n",
       "      <th></th>\n",
       "      <th></th>\n",
       "      <th></th>\n",
       "      <th></th>\n",
       "      <th></th>\n",
       "      <th></th>\n",
       "      <th></th>\n",
       "      <th></th>\n",
       "      <th></th>\n",
       "      <th></th>\n",
       "      <th></th>\n",
       "      <th></th>\n",
       "      <th></th>\n",
       "      <th></th>\n",
       "      <th></th>\n",
       "      <th></th>\n",
       "    </tr>\n",
       "  </thead>\n",
       "  <tbody>\n",
       "    <tr>\n",
       "      <th>0</th>\n",
       "      <td>8.0</td>\n",
       "      <td>0.50</td>\n",
       "      <td>0.39</td>\n",
       "      <td>2.2</td>\n",
       "      <td>0.073</td>\n",
       "      <td>30.0</td>\n",
       "      <td>39.0</td>\n",
       "      <td>0.99572</td>\n",
       "      <td>3.33</td>\n",
       "      <td>0.77</td>\n",
       "      <td>...</td>\n",
       "      <td>8.928213</td>\n",
       "      <td>12.048212</td>\n",
       "      <td>0.773310</td>\n",
       "      <td>1.540000</td>\n",
       "      <td>10.547945</td>\n",
       "      <td>0.063636</td>\n",
       "      <td>16.000000</td>\n",
       "      <td>30.136986</td>\n",
       "      <td>12.152011</td>\n",
       "      <td>6.050</td>\n",
       "    </tr>\n",
       "    <tr>\n",
       "      <th>1</th>\n",
       "      <td>9.3</td>\n",
       "      <td>0.30</td>\n",
       "      <td>0.73</td>\n",
       "      <td>2.3</td>\n",
       "      <td>0.092</td>\n",
       "      <td>30.0</td>\n",
       "      <td>67.0</td>\n",
       "      <td>0.99854</td>\n",
       "      <td>3.32</td>\n",
       "      <td>0.67</td>\n",
       "      <td>...</td>\n",
       "      <td>10.345104</td>\n",
       "      <td>12.781312</td>\n",
       "      <td>0.670980</td>\n",
       "      <td>2.233333</td>\n",
       "      <td>7.282609</td>\n",
       "      <td>0.052344</td>\n",
       "      <td>31.000000</td>\n",
       "      <td>25.000000</td>\n",
       "      <td>12.818715</td>\n",
       "      <td>3.840</td>\n",
       "    </tr>\n",
       "    <tr>\n",
       "      <th>2</th>\n",
       "      <td>7.1</td>\n",
       "      <td>0.51</td>\n",
       "      <td>0.03</td>\n",
       "      <td>2.1</td>\n",
       "      <td>0.059</td>\n",
       "      <td>3.0</td>\n",
       "      <td>12.0</td>\n",
       "      <td>0.99660</td>\n",
       "      <td>3.52</td>\n",
       "      <td>0.73</td>\n",
       "      <td>...</td>\n",
       "      <td>7.666065</td>\n",
       "      <td>11.261580</td>\n",
       "      <td>0.732490</td>\n",
       "      <td>1.431373</td>\n",
       "      <td>12.372881</td>\n",
       "      <td>0.064602</td>\n",
       "      <td>13.921569</td>\n",
       "      <td>35.593220</td>\n",
       "      <td>11.338551</td>\n",
       "      <td>5.763</td>\n",
       "    </tr>\n",
       "    <tr>\n",
       "      <th>3</th>\n",
       "      <td>8.1</td>\n",
       "      <td>0.87</td>\n",
       "      <td>0.22</td>\n",
       "      <td>2.6</td>\n",
       "      <td>0.084</td>\n",
       "      <td>11.0</td>\n",
       "      <td>65.0</td>\n",
       "      <td>0.99730</td>\n",
       "      <td>3.20</td>\n",
       "      <td>0.53</td>\n",
       "      <td>...</td>\n",
       "      <td>9.214880</td>\n",
       "      <td>9.773540</td>\n",
       "      <td>0.531435</td>\n",
       "      <td>0.609195</td>\n",
       "      <td>6.309524</td>\n",
       "      <td>0.054082</td>\n",
       "      <td>9.310345</td>\n",
       "      <td>30.952381</td>\n",
       "      <td>9.826532</td>\n",
       "      <td>8.526</td>\n",
       "    </tr>\n",
       "    <tr>\n",
       "      <th>4</th>\n",
       "      <td>8.5</td>\n",
       "      <td>0.36</td>\n",
       "      <td>0.30</td>\n",
       "      <td>2.3</td>\n",
       "      <td>0.079</td>\n",
       "      <td>10.0</td>\n",
       "      <td>45.0</td>\n",
       "      <td>0.99444</td>\n",
       "      <td>3.20</td>\n",
       "      <td>1.36</td>\n",
       "      <td>...</td>\n",
       "      <td>9.211214</td>\n",
       "      <td>9.447180</td>\n",
       "      <td>1.367604</td>\n",
       "      <td>3.777778</td>\n",
       "      <td>17.215190</td>\n",
       "      <td>0.143158</td>\n",
       "      <td>23.611111</td>\n",
       "      <td>29.113924</td>\n",
       "      <td>9.553115</td>\n",
       "      <td>3.420</td>\n",
       "    </tr>\n",
       "  </tbody>\n",
       "</table>\n",
       "<p>5 rows × 28 columns</p>\n",
       "</div>"
      ],
      "text/plain": [
       "    fixed acidity  volatile acidity  citric acid  residual sugar  chlorides  \\\n",
       "Id                                                                            \n",
       "0             8.0              0.50         0.39             2.2      0.073   \n",
       "1             9.3              0.30         0.73             2.3      0.092   \n",
       "2             7.1              0.51         0.03             2.1      0.059   \n",
       "3             8.1              0.87         0.22             2.6      0.084   \n",
       "4             8.5              0.36         0.30             2.3      0.079   \n",
       "\n",
       "    free sulfur dioxide  total sulfur dioxide  density    pH  sulphates  ...  \\\n",
       "Id                                                                       ...   \n",
       "0                  30.0                  39.0  0.99572  3.33       0.77  ...   \n",
       "1                  30.0                  67.0  0.99854  3.32       0.67  ...   \n",
       "2                   3.0                  12.0  0.99660  3.52       0.73  ...   \n",
       "3                  11.0                  65.0  0.99730  3.20       0.53  ...   \n",
       "4                  10.0                  45.0  0.99444  3.20       1.36  ...   \n",
       "\n",
       "    acid/density  alcohol_density  sulphate/density  sulphates/acid  \\\n",
       "Id                                                                    \n",
       "0       8.928213        12.048212          0.773310        1.540000   \n",
       "1      10.345104        12.781312          0.670980        2.233333   \n",
       "2       7.666065        11.261580          0.732490        1.431373   \n",
       "3       9.214880         9.773540          0.531435        0.609195   \n",
       "4       9.211214         9.447180          1.367604        3.777778   \n",
       "\n",
       "    sulphates/chlorides  sulphates/alcohol  acidity_ratio  sugar_to_chlorides  \\\n",
       "Id                                                                              \n",
       "0             10.547945           0.063636      16.000000           30.136986   \n",
       "1              7.282609           0.052344      31.000000           25.000000   \n",
       "2             12.372881           0.064602      13.921569           35.593220   \n",
       "3              6.309524           0.054082       9.310345           30.952381   \n",
       "4             17.215190           0.143158      23.611111           29.113924   \n",
       "\n",
       "    alcohol_to_density  alcohol_volatile_acidity  \n",
       "Id                                                \n",
       "0            12.152011                     6.050  \n",
       "1            12.818715                     3.840  \n",
       "2            11.338551                     5.763  \n",
       "3             9.826532                     8.526  \n",
       "4             9.553115                     3.420  \n",
       "\n",
       "[5 rows x 28 columns]"
      ]
     },
     "execution_count": 17,
     "metadata": {},
     "output_type": "execute_result"
    }
   ],
   "source": [
    "df_wine = add_features(df_wine)\n",
    "X_test = add_features(df_test)\n",
    "df_wine.head()"
   ]
  },
  {
   "cell_type": "code",
   "execution_count": 18,
   "id": "1050bd59",
   "metadata": {
    "execution": {
     "iopub.execute_input": "2023-02-15T13:17:52.396382Z",
     "iopub.status.busy": "2023-02-15T13:17:52.394652Z",
     "iopub.status.idle": "2023-02-15T13:17:52.411283Z",
     "shell.execute_reply": "2023-02-15T13:17:52.410259Z"
    },
    "papermill": {
     "duration": 0.036613,
     "end_time": "2023-02-15T13:17:52.413374",
     "exception": false,
     "start_time": "2023-02-15T13:17:52.376761",
     "status": "completed"
    },
    "scrolled": true,
    "tags": []
   },
   "outputs": [
    {
     "data": {
      "text/plain": [
       "quality                     1.000000\n",
       "alcohol_density             0.482794\n",
       "alcohol                     0.482102\n",
       "alcohol_to_density          0.481269\n",
       "alcohol_pH                  0.409446\n",
       "sulphates/acid              0.352141\n",
       "sulphate/density            0.320188\n",
       "sulphates                   0.318649\n",
       "sulphates/chlorides         0.293449\n",
       "acidity_ratio               0.261962\n",
       "alcohol_citric_acid         0.241991\n",
       "citric acid                 0.176236\n",
       "alcohol_residual_sugar      0.143077\n",
       "sulphates/alcohol           0.108180\n",
       "fixed acidity               0.091092\n",
       "sugar_to_chlorides          0.090084\n",
       "acid/density                0.079593\n",
       "total_acid                  0.077674\n",
       "residual sugar              0.032871\n",
       "pH_residual_sugar           0.032392\n",
       "pH                         -0.008851\n",
       "free sulfur dioxide        -0.058752\n",
       "mso2                       -0.070911\n",
       "chlorides                  -0.082893\n",
       "alcohol_volatile_acidity   -0.149923\n",
       "density                    -0.160544\n",
       "total sulfur dioxide       -0.208935\n",
       "volatile acidity           -0.285484\n",
       "Name: quality, dtype: float64"
      ]
     },
     "execution_count": 18,
     "metadata": {},
     "output_type": "execute_result"
    }
   ],
   "source": [
    "#chlecking the correlation again\n",
    "df_wine.corr(method='pearson')['quality'].sort_values(ascending=False)"
   ]
  },
  {
   "cell_type": "code",
   "execution_count": 19,
   "id": "2e327a88",
   "metadata": {
    "execution": {
     "iopub.execute_input": "2023-02-15T13:17:52.449065Z",
     "iopub.status.busy": "2023-02-15T13:17:52.448232Z",
     "iopub.status.idle": "2023-02-15T13:17:52.454755Z",
     "shell.execute_reply": "2023-02-15T13:17:52.453935Z"
    },
    "papermill": {
     "duration": 0.026368,
     "end_time": "2023-02-15T13:17:52.456729",
     "exception": false,
     "start_time": "2023-02-15T13:17:52.430361",
     "status": "completed"
    },
    "tags": []
   },
   "outputs": [],
   "source": [
    "# # getting the features and the target \n",
    "X = df_wine.drop(axis = 1, columns='quality')\n",
    "y = df_wine.pop('quality')"
   ]
  },
  {
   "cell_type": "code",
   "execution_count": 20,
   "id": "4196b766",
   "metadata": {
    "execution": {
     "iopub.execute_input": "2023-02-15T13:17:52.491754Z",
     "iopub.status.busy": "2023-02-15T13:17:52.491468Z",
     "iopub.status.idle": "2023-02-15T13:17:52.498595Z",
     "shell.execute_reply": "2023-02-15T13:17:52.497726Z"
    },
    "papermill": {
     "duration": 0.026835,
     "end_time": "2023-02-15T13:17:52.500493",
     "exception": false,
     "start_time": "2023-02-15T13:17:52.473658",
     "status": "completed"
    },
    "tags": []
   },
   "outputs": [
    {
     "data": {
      "text/plain": [
       "5    1322\n",
       "6    1240\n",
       "7     476\n",
       "4      88\n",
       "8      55\n",
       "3      18\n",
       "Name: quality, dtype: int64"
      ]
     },
     "execution_count": 20,
     "metadata": {},
     "output_type": "execute_result"
    }
   ],
   "source": [
    "y.value_counts()"
   ]
  },
  {
   "cell_type": "code",
   "execution_count": 21,
   "id": "3a771e12",
   "metadata": {
    "execution": {
     "iopub.execute_input": "2023-02-15T13:17:52.536711Z",
     "iopub.status.busy": "2023-02-15T13:17:52.535237Z",
     "iopub.status.idle": "2023-02-15T13:17:52.618554Z",
     "shell.execute_reply": "2023-02-15T13:17:52.617172Z"
    },
    "papermill": {
     "duration": 0.105283,
     "end_time": "2023-02-15T13:17:52.622502",
     "exception": false,
     "start_time": "2023-02-15T13:17:52.517219",
     "status": "completed"
    },
    "tags": []
   },
   "outputs": [],
   "source": [
    "#upsampling the data to balance the classes\n",
    "sm = SMOTE()\n",
    "X, y = sm.fit_resample(X, y)\n"
   ]
  },
  {
   "cell_type": "code",
   "execution_count": 22,
   "id": "2741ae55",
   "metadata": {
    "execution": {
     "iopub.execute_input": "2023-02-15T13:17:52.713057Z",
     "iopub.status.busy": "2023-02-15T13:17:52.712414Z",
     "iopub.status.idle": "2023-02-15T13:17:52.722364Z",
     "shell.execute_reply": "2023-02-15T13:17:52.721311Z"
    },
    "papermill": {
     "duration": 0.059282,
     "end_time": "2023-02-15T13:17:52.726014",
     "exception": false,
     "start_time": "2023-02-15T13:17:52.666732",
     "status": "completed"
    },
    "tags": []
   },
   "outputs": [
    {
     "data": {
      "text/plain": [
       "6    1322\n",
       "7    1322\n",
       "5    1322\n",
       "4    1322\n",
       "8    1322\n",
       "3    1322\n",
       "Name: quality, dtype: int64"
      ]
     },
     "execution_count": 22,
     "metadata": {},
     "output_type": "execute_result"
    }
   ],
   "source": [
    "y.value_counts()"
   ]
  },
  {
   "cell_type": "code",
   "execution_count": 23,
   "id": "9c86b6bf",
   "metadata": {
    "execution": {
     "iopub.execute_input": "2023-02-15T13:17:52.763638Z",
     "iopub.status.busy": "2023-02-15T13:17:52.762714Z",
     "iopub.status.idle": "2023-02-15T13:17:52.770752Z",
     "shell.execute_reply": "2023-02-15T13:17:52.769914Z"
    },
    "papermill": {
     "duration": 0.028178,
     "end_time": "2023-02-15T13:17:52.772740",
     "exception": false,
     "start_time": "2023-02-15T13:17:52.744562",
     "status": "completed"
    },
    "tags": []
   },
   "outputs": [],
   "source": [
    "#splitting the data into train and validation set\n",
    "X_train,X_valid,y_train,y_valid = train_test_split(X,y,test_size=0.2)"
   ]
  },
  {
   "cell_type": "markdown",
   "id": "0913d28b",
   "metadata": {
    "papermill": {
     "duration": 0.016787,
     "end_time": "2023-02-15T13:17:52.806853",
     "exception": false,
     "start_time": "2023-02-15T13:17:52.790066",
     "status": "completed"
    },
    "tags": []
   },
   "source": [
    "## `Standardize the Features`"
   ]
  },
  {
   "cell_type": "code",
   "execution_count": 24,
   "id": "66fa8f77",
   "metadata": {
    "execution": {
     "iopub.execute_input": "2023-02-15T13:17:52.842590Z",
     "iopub.status.busy": "2023-02-15T13:17:52.842008Z",
     "iopub.status.idle": "2023-02-15T13:17:52.857531Z",
     "shell.execute_reply": "2023-02-15T13:17:52.856692Z"
    },
    "papermill": {
     "duration": 0.035567,
     "end_time": "2023-02-15T13:17:52.859445",
     "exception": false,
     "start_time": "2023-02-15T13:17:52.823878",
     "status": "completed"
    },
    "tags": []
   },
   "outputs": [],
   "source": [
    "## using StandardScaler for each Feature to be (mean=0, std=1)\n",
    "scaler = StandardScaler()\n",
    "scaler.fit(X_train)\n",
    "#scaling the train data\n",
    "X_train = pd.DataFrame(columns=X.columns,data = scaler.transform(X_train),index= X_train.index)\n",
    "X_valid = pd.DataFrame(columns=X.columns,data=scaler.transform(X_valid),index= X_valid.index)\n",
    "X_test = pd.DataFrame(columns=X.columns,data=scaler.transform(X_test),index= X_test.index)"
   ]
  },
  {
   "cell_type": "markdown",
   "id": "96dd035f",
   "metadata": {
    "papermill": {
     "duration": 0.016859,
     "end_time": "2023-02-15T13:17:52.893411",
     "exception": false,
     "start_time": "2023-02-15T13:17:52.876552",
     "status": "completed"
    },
    "tags": []
   },
   "source": [
    "### `Building ML Models`\n",
    "\n"
   ]
  },
  {
   "cell_type": "markdown",
   "id": "f6554591",
   "metadata": {
    "papermill": {
     "duration": 0.016703,
     "end_time": "2023-02-15T13:17:52.927006",
     "exception": false,
     "start_time": "2023-02-15T13:17:52.910303",
     "status": "completed"
    },
    "tags": []
   },
   "source": [
    "### `1. LinearRegression`"
   ]
  },
  {
   "cell_type": "code",
   "execution_count": 25,
   "id": "f3e02c4e",
   "metadata": {
    "execution": {
     "iopub.execute_input": "2023-02-15T13:17:52.963368Z",
     "iopub.status.busy": "2023-02-15T13:17:52.963015Z",
     "iopub.status.idle": "2023-02-15T13:17:52.994689Z",
     "shell.execute_reply": "2023-02-15T13:17:52.993104Z"
    },
    "papermill": {
     "duration": 0.053528,
     "end_time": "2023-02-15T13:17:52.997965",
     "exception": false,
     "start_time": "2023-02-15T13:17:52.944437",
     "status": "completed"
    },
    "tags": []
   },
   "outputs": [
    {
     "data": {
      "text/plain": [
       "LinearRegression()"
      ]
     },
     "execution_count": 25,
     "metadata": {},
     "output_type": "execute_result"
    }
   ],
   "source": [
    "#First we will try simple Linear Regression model\n",
    "lin_reg = LinearRegression()\n",
    "lin_reg.fit(X_train, y_train)"
   ]
  },
  {
   "cell_type": "code",
   "execution_count": 26,
   "id": "eec0007e",
   "metadata": {
    "execution": {
     "iopub.execute_input": "2023-02-15T13:17:53.086596Z",
     "iopub.status.busy": "2023-02-15T13:17:53.085993Z",
     "iopub.status.idle": "2023-02-15T13:17:53.102268Z",
     "shell.execute_reply": "2023-02-15T13:17:53.101017Z"
    },
    "papermill": {
     "duration": 0.064231,
     "end_time": "2023-02-15T13:17:53.105547",
     "exception": false,
     "start_time": "2023-02-15T13:17:53.041316",
     "status": "completed"
    },
    "tags": []
   },
   "outputs": [
    {
     "name": "stdout",
     "output_type": "stream",
     "text": [
      "Linear Regression score =  0.704685746617326\n"
     ]
    }
   ],
   "source": [
    "score_lin_reg = kappa(lin_reg,X_valid,y_valid)\n",
    "print('Linear Regression score = ',score_lin_reg)"
   ]
  },
  {
   "cell_type": "code",
   "execution_count": 27,
   "id": "e033def5",
   "metadata": {
    "execution": {
     "iopub.execute_input": "2023-02-15T13:17:53.200445Z",
     "iopub.status.busy": "2023-02-15T13:17:53.199804Z",
     "iopub.status.idle": "2023-02-15T13:17:53.224540Z",
     "shell.execute_reply": "2023-02-15T13:17:53.223201Z"
    },
    "papermill": {
     "duration": 0.076536,
     "end_time": "2023-02-15T13:17:53.227871",
     "exception": false,
     "start_time": "2023-02-15T13:17:53.151335",
     "status": "completed"
    },
    "tags": []
   },
   "outputs": [
    {
     "data": {
      "text/plain": [
       "5     473\n",
       "6     363\n",
       "7     217\n",
       "4     214\n",
       "8      80\n",
       "3      14\n",
       "9      10\n",
       "10      1\n",
       "Name: quality, dtype: int64"
      ]
     },
     "execution_count": 27,
     "metadata": {},
     "output_type": "execute_result"
    }
   ],
   "source": [
    "y_lin = lin_reg.predict(X_test)\n",
    "y_lin = np.round(y_lin,decimals=0).astype(int) \n",
    "df_y_lin = pd.DataFrame({'Id':X_test.index,'quality':y_lin})\n",
    "df_y_lin.to_csv('y_lin.csv',index=False)\n",
    "df_y_lin['quality'].value_counts()"
   ]
  },
  {
   "cell_type": "markdown",
   "id": "43b53358",
   "metadata": {
    "papermill": {
     "duration": 0.043272,
     "end_time": "2023-02-15T13:17:53.316835",
     "exception": false,
     "start_time": "2023-02-15T13:17:53.273563",
     "status": "completed"
    },
    "tags": []
   },
   "source": [
    "### `2. CatBoost`"
   ]
  },
  {
   "cell_type": "code",
   "execution_count": 28,
   "id": "10b5a2cd",
   "metadata": {
    "execution": {
     "iopub.execute_input": "2023-02-15T13:17:53.369482Z",
     "iopub.status.busy": "2023-02-15T13:17:53.368803Z",
     "iopub.status.idle": "2023-02-15T13:17:55.208842Z",
     "shell.execute_reply": "2023-02-15T13:17:55.207955Z"
    },
    "papermill": {
     "duration": 1.860842,
     "end_time": "2023-02-15T13:17:55.211046",
     "exception": false,
     "start_time": "2023-02-15T13:17:53.350204",
     "status": "completed"
    },
    "tags": []
   },
   "outputs": [
    {
     "data": {
      "text/plain": [
       "<catboost.core.CatBoostRegressor at 0x7f1f90b08250>"
      ]
     },
     "execution_count": 28,
     "metadata": {},
     "output_type": "execute_result"
    }
   ],
   "source": [
    "cat_model= CatBoostRegressor(iterations=500, \n",
    "                          depth=4, \n",
    "                          learning_rate=0.05, \n",
    "                          loss_function='RMSE',verbose=0)\n",
    "cat_model.fit(X_train,y_train)"
   ]
  },
  {
   "cell_type": "code",
   "execution_count": 29,
   "id": "c653b870",
   "metadata": {
    "execution": {
     "iopub.execute_input": "2023-02-15T13:17:55.247838Z",
     "iopub.status.busy": "2023-02-15T13:17:55.247145Z",
     "iopub.status.idle": "2023-02-15T13:17:55.263766Z",
     "shell.execute_reply": "2023-02-15T13:17:55.262448Z"
    },
    "papermill": {
     "duration": 0.037999,
     "end_time": "2023-02-15T13:17:55.266492",
     "exception": false,
     "start_time": "2023-02-15T13:17:55.228493",
     "status": "completed"
    },
    "tags": []
   },
   "outputs": [
    {
     "name": "stdout",
     "output_type": "stream",
     "text": [
      "Catboost Regression score =  0.8799696352377251\n"
     ]
    }
   ],
   "source": [
    "score_catboost = kappa(cat_model,X_valid,y_valid)\n",
    "print('Catboost Regression score = ',score_catboost)"
   ]
  },
  {
   "cell_type": "code",
   "execution_count": 30,
   "id": "085a1dfb",
   "metadata": {
    "execution": {
     "iopub.execute_input": "2023-02-15T13:17:55.303404Z",
     "iopub.status.busy": "2023-02-15T13:17:55.303091Z",
     "iopub.status.idle": "2023-02-15T13:17:55.320624Z",
     "shell.execute_reply": "2023-02-15T13:17:55.319671Z"
    },
    "papermill": {
     "duration": 0.038166,
     "end_time": "2023-02-15T13:17:55.322925",
     "exception": false,
     "start_time": "2023-02-15T13:17:55.284759",
     "status": "completed"
    },
    "tags": []
   },
   "outputs": [
    {
     "data": {
      "text/plain": [
       "5    548\n",
       "7    331\n",
       "6    321\n",
       "4    143\n",
       "8     27\n",
       "3      2\n",
       "Name: quality, dtype: int64"
      ]
     },
     "execution_count": 30,
     "metadata": {},
     "output_type": "execute_result"
    }
   ],
   "source": [
    "y_cat_test = cat_model.predict(X_test)\n",
    "y_cat = np.round(y_cat_test,decimals=0).astype(int) \n",
    "df_y_cat = pd.DataFrame({'Id':X_test.index,'quality':y_cat})\n",
    "df_y_cat.to_csv('y_cat.csv',index=False)\n",
    "df_y_cat['quality'].value_counts()"
   ]
  },
  {
   "cell_type": "markdown",
   "id": "9d22cdf6",
   "metadata": {
    "papermill": {
     "duration": 0.017448,
     "end_time": "2023-02-15T13:17:55.359201",
     "exception": false,
     "start_time": "2023-02-15T13:17:55.341753",
     "status": "completed"
    },
    "tags": []
   },
   "source": [
    "### `Catboost Tuning`"
   ]
  },
  {
   "cell_type": "code",
   "execution_count": 31,
   "id": "0eec7636",
   "metadata": {
    "execution": {
     "iopub.execute_input": "2023-02-15T13:17:55.395746Z",
     "iopub.status.busy": "2023-02-15T13:17:55.395399Z",
     "iopub.status.idle": "2023-02-15T13:24:49.901819Z",
     "shell.execute_reply": "2023-02-15T13:24:49.900879Z"
    },
    "papermill": {
     "duration": 414.544797,
     "end_time": "2023-02-15T13:24:49.921500",
     "exception": false,
     "start_time": "2023-02-15T13:17:55.376703",
     "status": "completed"
    },
    "tags": []
   },
   "outputs": [
    {
     "name": "stdout",
     "output_type": "stream",
     "text": [
      "Fitting 5 folds for each of 72 candidates, totalling 360 fits\n"
     ]
    },
    {
     "data": {
      "text/plain": [
       "GridSearchCV(cv=5,\n",
       "             estimator=<catboost.core.CatBoostRegressor object at 0x7f1f90b08250>,\n",
       "             param_grid={'depth': array([1, 2, 3, 4]),\n",
       "                         'iterations': array([100, 200, 300, 400, 500, 600, 700, 800, 900]),\n",
       "                         'learning_rate': [0.05, 0.08]},\n",
       "             verbose=1)"
      ]
     },
     "execution_count": 31,
     "metadata": {},
     "output_type": "execute_result"
    }
   ],
   "source": [
    "cat_parameters = {'iterations':np.arange(100,1000,100), \n",
    "                          'depth':np.arange(1,5,1), \n",
    "                          'learning_rate':[0.05,0.08]}\n",
    "\n",
    "search_catboost = GridSearchCV(estimator=cat_model, param_grid=cat_parameters, \n",
    "                                         verbose=1,cv=5)\n",
    "\n",
    "search_catboost.fit(X_train,y_train, eval_set=[(X_valid, y_valid)])"
   ]
  },
  {
   "cell_type": "code",
   "execution_count": 32,
   "id": "8de8d831",
   "metadata": {
    "execution": {
     "iopub.execute_input": "2023-02-15T13:24:49.959069Z",
     "iopub.status.busy": "2023-02-15T13:24:49.958067Z",
     "iopub.status.idle": "2023-02-15T13:24:49.964505Z",
     "shell.execute_reply": "2023-02-15T13:24:49.963340Z"
    },
    "papermill": {
     "duration": 0.027284,
     "end_time": "2023-02-15T13:24:49.966471",
     "exception": false,
     "start_time": "2023-02-15T13:24:49.939187",
     "status": "completed"
    },
    "tags": []
   },
   "outputs": [
    {
     "name": "stdout",
     "output_type": "stream",
     "text": [
      "best_cat_params --  {'depth': 4, 'iterations': 900, 'learning_rate': 0.08}\n",
      "best_cat --  <catboost.core.CatBoostRegressor object at 0x7f1f92b92f90>\n"
     ]
    }
   ],
   "source": [
    "## Get the best Params\n",
    "best_cat_params = search_catboost.best_params_\n",
    "print('best_cat_params -- ', best_cat_params)\n",
    "\n",
    "## Get the best estimator\n",
    "best_cat = search_catboost.best_estimator_  ## predict using this Model\n",
    "print('best_cat -- ', best_cat)"
   ]
  },
  {
   "cell_type": "code",
   "execution_count": 33,
   "id": "38fb3f1c",
   "metadata": {
    "execution": {
     "iopub.execute_input": "2023-02-15T13:24:50.003478Z",
     "iopub.status.busy": "2023-02-15T13:24:50.002607Z",
     "iopub.status.idle": "2023-02-15T13:24:50.014225Z",
     "shell.execute_reply": "2023-02-15T13:24:50.012960Z"
    },
    "papermill": {
     "duration": 0.032353,
     "end_time": "2023-02-15T13:24:50.016323",
     "exception": false,
     "start_time": "2023-02-15T13:24:49.983970",
     "status": "completed"
    },
    "tags": []
   },
   "outputs": [
    {
     "name": "stdout",
     "output_type": "stream",
     "text": [
      "Best Catboost Regression score =  0.913741412755483\n"
     ]
    }
   ],
   "source": [
    "score_Best_catboost = kappa(best_cat,X_valid,y_valid)\n",
    "print('Best Catboost Regression score = ',score_Best_catboost)"
   ]
  },
  {
   "cell_type": "markdown",
   "id": "89818f04",
   "metadata": {
    "papermill": {
     "duration": 0.017589,
     "end_time": "2023-02-15T13:24:50.051792",
     "exception": false,
     "start_time": "2023-02-15T13:24:50.034203",
     "status": "completed"
    },
    "tags": []
   },
   "source": [
    "### `3. RandomForest`"
   ]
  },
  {
   "cell_type": "code",
   "execution_count": 34,
   "id": "2c1f873b",
   "metadata": {
    "execution": {
     "iopub.execute_input": "2023-02-15T13:24:50.088809Z",
     "iopub.status.busy": "2023-02-15T13:24:50.088471Z",
     "iopub.status.idle": "2023-02-15T13:24:53.247782Z",
     "shell.execute_reply": "2023-02-15T13:24:53.246912Z"
    },
    "papermill": {
     "duration": 3.180412,
     "end_time": "2023-02-15T13:24:53.249701",
     "exception": false,
     "start_time": "2023-02-15T13:24:50.069289",
     "status": "completed"
    },
    "tags": []
   },
   "outputs": [
    {
     "data": {
      "text/plain": [
       "RandomForestRegressor(max_depth=6, max_features=0.8, max_samples=0.8,\n",
       "                      min_samples_split=4, n_jobs=-1)"
      ]
     },
     "execution_count": 34,
     "metadata": {},
     "output_type": "execute_result"
    }
   ],
   "source": [
    "# trying random forest regressor\n",
    "forest_reg = RandomForestRegressor(n_estimators=100,max_samples=0.8,\n",
    "                                   max_depth=6, n_jobs=-1,\n",
    "                                  min_samples_split=4,max_features=0.8)\n",
    "forest_reg.fit(X_train,y_train)"
   ]
  },
  {
   "cell_type": "code",
   "execution_count": 35,
   "id": "17b71933",
   "metadata": {
    "execution": {
     "iopub.execute_input": "2023-02-15T13:24:53.287219Z",
     "iopub.status.busy": "2023-02-15T13:24:53.286856Z",
     "iopub.status.idle": "2023-02-15T13:24:53.398060Z",
     "shell.execute_reply": "2023-02-15T13:24:53.396790Z"
    },
    "papermill": {
     "duration": 0.132415,
     "end_time": "2023-02-15T13:24:53.400497",
     "exception": false,
     "start_time": "2023-02-15T13:24:53.268082",
     "status": "completed"
    },
    "tags": []
   },
   "outputs": [
    {
     "name": "stdout",
     "output_type": "stream",
     "text": [
      "Random Forest score =  0.8132691480037181\n"
     ]
    }
   ],
   "source": [
    "score_RF = kappa(forest_reg,X_valid,y_valid)\n",
    "print('Random Forest score = ',score_RF)"
   ]
  },
  {
   "cell_type": "markdown",
   "id": "33aa2270",
   "metadata": {
    "papermill": {
     "duration": 0.017755,
     "end_time": "2023-02-15T13:24:53.436872",
     "exception": false,
     "start_time": "2023-02-15T13:24:53.419117",
     "status": "completed"
    },
    "tags": []
   },
   "source": [
    "### `RF Tuning`"
   ]
  },
  {
   "cell_type": "code",
   "execution_count": 36,
   "id": "55feb168",
   "metadata": {
    "execution": {
     "iopub.execute_input": "2023-02-15T13:24:53.474726Z",
     "iopub.status.busy": "2023-02-15T13:24:53.474376Z",
     "iopub.status.idle": "2023-02-15T13:51:50.480632Z",
     "shell.execute_reply": "2023-02-15T13:51:50.479643Z"
    },
    "papermill": {
     "duration": 1617.046484,
     "end_time": "2023-02-15T13:51:50.501320",
     "exception": false,
     "start_time": "2023-02-15T13:24:53.454836",
     "status": "completed"
    },
    "tags": []
   },
   "outputs": [
    {
     "name": "stdout",
     "output_type": "stream",
     "text": [
      "Fitting 5 folds for each of 162 candidates, totalling 810 fits\n"
     ]
    },
    {
     "data": {
      "text/plain": [
       "GridSearchCV(cv=5,\n",
       "             estimator=RandomForestRegressor(max_depth=6, max_features=0.8,\n",
       "                                             max_samples=0.8,\n",
       "                                             min_samples_split=4, n_jobs=-1),\n",
       "             param_grid={'max_depth': array([2, 3, 4]),\n",
       "                         'max_features': [0.8, 'sqrt', 'log2'],\n",
       "                         'max_samples': [0.7, 0.8],\n",
       "                         'min_samples_split': array([2, 4, 6]),\n",
       "                         'n_estimators': [200, 300, 400]},\n",
       "             verbose=1)"
      ]
     },
     "execution_count": 36,
     "metadata": {},
     "output_type": "execute_result"
    }
   ],
   "source": [
    "## Using GridSearchCV\n",
    "\n",
    "param_forest = {'n_estimators': [200,300,400], \n",
    "                     'max_depth':np.arange(2,5,1), \n",
    "                     'max_samples':[0.7,0.8],\n",
    "                     'min_samples_split':np.arange(2,7,2),\n",
    "                'max_features':[0.8,\"sqrt\",\"log2\"]\n",
    "               }\n",
    "\n",
    "\n",
    "## Intialize\n",
    "search_random_forest = GridSearchCV(estimator=forest_reg, param_grid=param_forest, \n",
    "                                         verbose=1,cv=5)\n",
    "\n",
    "# Fit with all data\n",
    "search_random_forest.fit(X_train, y_train)"
   ]
  },
  {
   "cell_type": "code",
   "execution_count": 37,
   "id": "8db8085f",
   "metadata": {
    "execution": {
     "iopub.execute_input": "2023-02-15T13:51:50.540787Z",
     "iopub.status.busy": "2023-02-15T13:51:50.539925Z",
     "iopub.status.idle": "2023-02-15T13:51:50.546268Z",
     "shell.execute_reply": "2023-02-15T13:51:50.545315Z"
    },
    "papermill": {
     "duration": 0.028737,
     "end_time": "2023-02-15T13:51:50.548907",
     "exception": false,
     "start_time": "2023-02-15T13:51:50.520170",
     "status": "completed"
    },
    "tags": []
   },
   "outputs": [
    {
     "name": "stdout",
     "output_type": "stream",
     "text": [
      "best_forest_params --  {'max_depth': 4, 'max_features': 0.8, 'max_samples': 0.7, 'min_samples_split': 6, 'n_estimators': 400}\n",
      "best_forest --  RandomForestRegressor(max_depth=4, max_features=0.8, max_samples=0.7,\n",
      "                      min_samples_split=6, n_estimators=400, n_jobs=-1)\n"
     ]
    }
   ],
   "source": [
    "## Get the best Params\n",
    "best_forest_params = search_random_forest.best_params_\n",
    "print('best_forest_params -- ', best_forest_params)\n",
    "\n",
    "## Get the best estimator\n",
    "best_forest = search_random_forest.best_estimator_  ## predict using this Model\n",
    "print('best_forest -- ', best_forest)"
   ]
  },
  {
   "cell_type": "code",
   "execution_count": 38,
   "id": "fafcd8e2",
   "metadata": {
    "execution": {
     "iopub.execute_input": "2023-02-15T13:51:50.588248Z",
     "iopub.status.busy": "2023-02-15T13:51:50.587278Z",
     "iopub.status.idle": "2023-02-15T13:51:50.699034Z",
     "shell.execute_reply": "2023-02-15T13:51:50.697858Z"
    },
    "papermill": {
     "duration": 0.133829,
     "end_time": "2023-02-15T13:51:50.701201",
     "exception": false,
     "start_time": "2023-02-15T13:51:50.567372",
     "status": "completed"
    },
    "tags": []
   },
   "outputs": [
    {
     "name": "stdout",
     "output_type": "stream",
     "text": [
      "Best Random Forest score =  0.7557659341525458\n"
     ]
    }
   ],
   "source": [
    "score_best_RF = kappa(best_forest,X_valid,y_valid)\n",
    "print('Best Random Forest score = ',score_best_RF)"
   ]
  },
  {
   "cell_type": "markdown",
   "id": "4b1b164b",
   "metadata": {
    "papermill": {
     "duration": 0.018429,
     "end_time": "2023-02-15T13:51:50.738681",
     "exception": false,
     "start_time": "2023-02-15T13:51:50.720252",
     "status": "completed"
    },
    "tags": []
   },
   "source": [
    "### `Feature Importance using RF`"
   ]
  },
  {
   "cell_type": "code",
   "execution_count": 39,
   "id": "f02e63a3",
   "metadata": {
    "execution": {
     "iopub.execute_input": "2023-02-15T13:51:50.778148Z",
     "iopub.status.busy": "2023-02-15T13:51:50.777240Z",
     "iopub.status.idle": "2023-02-15T13:51:50.885864Z",
     "shell.execute_reply": "2023-02-15T13:51:50.884952Z"
    },
    "papermill": {
     "duration": 0.130754,
     "end_time": "2023-02-15T13:51:50.888278",
     "exception": false,
     "start_time": "2023-02-15T13:51:50.757524",
     "status": "completed"
    },
    "tags": []
   },
   "outputs": [],
   "source": [
    "## Getting the Features Importance (they are normalized in RF, sum=1)\n",
    "feat_import_forest = {}   ## to append in it\n",
    "for name, score in zip(X_train.columns, best_forest.feature_importances_[:]):  ## take only the first 11 Numerical Cols\n",
    "    feat_import_forest[name] = score\n",
    "    \n",
    "## Features are keys, Importance is the value\n",
    "keys_forest = feat_import_forest.keys()\n",
    "values_forest = feat_import_forest.values()"
   ]
  },
  {
   "cell_type": "code",
   "execution_count": 40,
   "id": "f8503e25",
   "metadata": {
    "execution": {
     "iopub.execute_input": "2023-02-15T13:51:50.928289Z",
     "iopub.status.busy": "2023-02-15T13:51:50.927433Z",
     "iopub.status.idle": "2023-02-15T13:51:51.271654Z",
     "shell.execute_reply": "2023-02-15T13:51:51.270790Z"
    },
    "papermill": {
     "duration": 0.366437,
     "end_time": "2023-02-15T13:51:51.273680",
     "exception": false,
     "start_time": "2023-02-15T13:51:50.907243",
     "status": "completed"
    },
    "tags": []
   },
   "outputs": [
    {
     "data": {
      "image/png": "[encoded data removed]",
      "text/plain": [
       "<Figure size 864x576 with 1 Axes>"
      ]
     },
     "metadata": {
      "needs_background": "light"
     },
     "output_type": "display_data"
    }
   ],
   "source": [
    "## to DF and then plotting\n",
    "df_feat_import_forest = pd.DataFrame({'Features': keys_forest, 'Scores': values_forest})\n",
    "df_feat_import_forest = df_feat_import_forest.sort_values(by='Scores', ascending=False)\n",
    "\n",
    "## plotting\n",
    "plt.figure(figsize=(12, 8))\n",
    "plt.barh(y=df_feat_import_forest['Features'], width=df_feat_import_forest['Scores'])\n",
    "plt.title('Feautres Importance Using RandomForest Model', fontsize=16, c='k')\n",
    "plt.xlabel('Scores', fontsize=16, c='k')\n",
    "plt.ylabel('Features', fontsize=16, c='k')\n",
    "plt.xticks(c='k', fontsize=12)\n",
    "plt.yticks(c='k', fontsize=12)\n",
    "plt.grid('on')\n",
    "plt.show()"
   ]
  },
  {
   "cell_type": "markdown",
   "id": "91c5c370",
   "metadata": {
    "papermill": {
     "duration": 0.019006,
     "end_time": "2023-02-15T13:51:51.312267",
     "exception": false,
     "start_time": "2023-02-15T13:51:51.293261",
     "status": "completed"
    },
    "tags": []
   },
   "source": [
    "### `5. XGboost`"
   ]
  },
  {
   "cell_type": "code",
   "execution_count": 41,
   "id": "b4a3abb7",
   "metadata": {
    "execution": {
     "iopub.execute_input": "2023-02-15T13:51:51.353320Z",
     "iopub.status.busy": "2023-02-15T13:51:51.352294Z",
     "iopub.status.idle": "2023-02-15T13:51:55.252298Z",
     "shell.execute_reply": "2023-02-15T13:51:55.251444Z"
    },
    "papermill": {
     "duration": 3.92264,
     "end_time": "2023-02-15T13:51:55.254459",
     "exception": false,
     "start_time": "2023-02-15T13:51:51.331819",
     "status": "completed"
    },
    "tags": []
   },
   "outputs": [
    {
     "data": {
      "text/plain": [
       "XGBRegressor(base_score=0.5, booster='gbtree', callbacks=None,\n",
       "             colsample_bylevel=1, colsample_bynode=1, colsample_bytree=1,\n",
       "             early_stopping_rounds=None, enable_categorical=False, eta=0.2,\n",
       "             eval_metric=None, gamma=0.1, gpu_id=-1, grow_policy='depthwise',\n",
       "             importance_type=None, interaction_constraints='',\n",
       "             learning_rate=0.05, max_bin=256, max_cat_to_onehot=4,\n",
       "             max_delta_step=2, max_depth=3, max_leaves=0, min_child_weight=2,\n",
       "             missing=nan, monotone_constraints='()', n_estimators=100, n_jobs=0,\n",
       "             num_parallel_tree=1, predictor='auto', random_state=0, reg_alpha=0, ...)"
      ]
     },
     "execution_count": 41,
     "metadata": {},
     "output_type": "execute_result"
    }
   ],
   "source": [
    "xgb_reg = XGBRegressor(n_estimators=100, max_depth=3, learning_rate=0.05, subsample=0.8\n",
    "                       ,eta=0.2,gamma=0.1,min_child_weight=2\n",
    "                       ,max_delta_step=2,scale_pos_weight=2)\n",
    "xgb_reg.fit(X_train, y_train,\n",
    "         \n",
    "           )"
   ]
  },
  {
   "cell_type": "code",
   "execution_count": 42,
   "id": "90410097",
   "metadata": {
    "execution": {
     "iopub.execute_input": "2023-02-15T13:51:55.296027Z",
     "iopub.status.busy": "2023-02-15T13:51:55.295652Z",
     "iopub.status.idle": "2023-02-15T13:51:55.308731Z",
     "shell.execute_reply": "2023-02-15T13:51:55.308021Z"
    },
    "papermill": {
     "duration": 0.035775,
     "end_time": "2023-02-15T13:51:55.310853",
     "exception": false,
     "start_time": "2023-02-15T13:51:55.275078",
     "status": "completed"
    },
    "tags": []
   },
   "outputs": [
    {
     "name": "stdout",
     "output_type": "stream",
     "text": [
      "XGB Regressor score =  0.7847367285814384\n"
     ]
    }
   ],
   "source": [
    "score_xgb_reg = kappa(xgb_reg,X_valid,y_valid)\n",
    "print('XGB Regressor score = ',score_xgb_reg)"
   ]
  },
  {
   "cell_type": "markdown",
   "id": "36217d1a",
   "metadata": {
    "papermill": {
     "duration": 0.019221,
     "end_time": "2023-02-15T13:51:55.351665",
     "exception": false,
     "start_time": "2023-02-15T13:51:55.332444",
     "status": "completed"
    },
    "tags": []
   },
   "source": [
    "### `Tuning XGBoost`"
   ]
  },
  {
   "cell_type": "code",
   "execution_count": 43,
   "id": "0de63cab",
   "metadata": {
    "execution": {
     "iopub.execute_input": "2023-02-15T13:51:55.392384Z",
     "iopub.status.busy": "2023-02-15T13:51:55.392017Z",
     "iopub.status.idle": "2023-02-15T14:15:37.359275Z",
     "shell.execute_reply": "2023-02-15T14:15:37.358288Z"
    },
    "papermill": {
     "duration": 1422.009381,
     "end_time": "2023-02-15T14:15:37.380619",
     "exception": false,
     "start_time": "2023-02-15T13:51:55.371238",
     "status": "completed"
    },
    "tags": []
   },
   "outputs": [
    {
     "data": {
      "text/plain": [
       "GridSearchCV(cv=5,\n",
       "             estimator=XGBRegressor(base_score=0.5, booster='gbtree',\n",
       "                                    callbacks=None, colsample_bylevel=1,\n",
       "                                    colsample_bynode=1, colsample_bytree=1,\n",
       "                                    early_stopping_rounds=None,\n",
       "                                    enable_categorical=False, eta=0.2,\n",
       "                                    eval_metric=None, gamma=0.1, gpu_id=-1,\n",
       "                                    grow_policy='depthwise',\n",
       "                                    importance_type=None,\n",
       "                                    interaction_constraints='',\n",
       "                                    learning_rate=0.05, max_bin=256,\n",
       "                                    max_...,\n",
       "                                    max_depth=3, max_leaves=0,\n",
       "                                    min_child_weight=2, missing=nan,\n",
       "                                    monotone_constraints='()', n_estimators=100,\n",
       "                                    n_jobs=0, num_parallel_tree=1,\n",
       "                                    predictor='auto', random_state=0,\n",
       "                                    reg_alpha=0, ...),\n",
       "             n_jobs=-1,\n",
       "             param_grid={'max_delta_step': array([1, 2, 3]),\n",
       "                         'max_depth': array([2, 3, 4]),\n",
       "                         'min_child_weight': array([2, 3]),\n",
       "                         'n_estimators': array([200, 300, 400]),\n",
       "                         'subsample': [0.7, 0.8]})"
      ]
     },
     "execution_count": 43,
     "metadata": {},
     "output_type": "execute_result"
    }
   ],
   "source": [
    "### Let's try tuning XGBoost using GridSearchCV  \n",
    "params_best_xgb = {'n_estimators':np.arange(200,500,100), 'max_depth':np.arange(2,5,1), \n",
    "                    'subsample':[0.7,0.8],\n",
    "                  'min_child_weight':np.arange(2,4,1),'max_delta_step':np.arange(1,4,1)}\n",
    "\n",
    "\n",
    "## Intitalize the GridSearchCV and Fit the Data\n",
    "grid_xgb = GridSearchCV(estimator=xgb_reg, param_grid=params_best_xgb, cv=5, \n",
    "                        n_jobs=-1)\n",
    "grid_xgb.fit(X_train, y_train)  ## train"
   ]
  },
  {
   "cell_type": "code",
   "execution_count": 44,
   "id": "474426c7",
   "metadata": {
    "execution": {
     "iopub.execute_input": "2023-02-15T14:15:37.490922Z",
     "iopub.status.busy": "2023-02-15T14:15:37.490320Z",
     "iopub.status.idle": "2023-02-15T14:15:37.499406Z",
     "shell.execute_reply": "2023-02-15T14:15:37.498058Z"
    },
    "papermill": {
     "duration": 0.031663,
     "end_time": "2023-02-15T14:15:37.501434",
     "exception": false,
     "start_time": "2023-02-15T14:15:37.469771",
     "status": "completed"
    },
    "tags": []
   },
   "outputs": [
    {
     "name": "stdout",
     "output_type": "stream",
     "text": [
      "best_xgb_params --  {'max_delta_step': 3, 'max_depth': 4, 'min_child_weight': 2, 'n_estimators': 400, 'subsample': 0.7}\n",
      "best_xgb --  XGBRegressor(base_score=0.5, booster='gbtree', callbacks=None,\n",
      "             colsample_bylevel=1, colsample_bynode=1, colsample_bytree=1,\n",
      "             early_stopping_rounds=None, enable_categorical=False, eta=0.2,\n",
      "             eval_metric=None, gamma=0.1, gpu_id=-1, grow_policy='depthwise',\n",
      "             importance_type=None, interaction_constraints='',\n",
      "             learning_rate=0.05, max_bin=256, max_cat_to_onehot=4,\n",
      "             max_delta_step=3, max_depth=4, max_leaves=0, min_child_weight=2,\n",
      "             missing=nan, monotone_constraints='()', n_estimators=400, n_jobs=0,\n",
      "             num_parallel_tree=1, predictor='auto', random_state=0, reg_alpha=0, ...)\n"
     ]
    }
   ],
   "source": [
    "## Get the best Params\n",
    "best_xgb_params = grid_xgb.best_params_\n",
    "print('best_xgb_params -- ', best_xgb_params)\n",
    "\n",
    "## Get the best estimator\n",
    "best_xgb = grid_xgb.best_estimator_  ## predict using this Model\n",
    "print('best_xgb -- ', best_xgb)"
   ]
  },
  {
   "cell_type": "code",
   "execution_count": 45,
   "id": "4fafe02f",
   "metadata": {
    "execution": {
     "iopub.execute_input": "2023-02-15T14:15:37.542061Z",
     "iopub.status.busy": "2023-02-15T14:15:37.541695Z",
     "iopub.status.idle": "2023-02-15T14:15:37.559202Z",
     "shell.execute_reply": "2023-02-15T14:15:37.558322Z"
    },
    "papermill": {
     "duration": 0.040324,
     "end_time": "2023-02-15T14:15:37.561197",
     "exception": false,
     "start_time": "2023-02-15T14:15:37.520873",
     "status": "completed"
    },
    "tags": []
   },
   "outputs": [
    {
     "name": "stdout",
     "output_type": "stream",
     "text": [
      "Best XGB Regressor score =  0.905871704220836\n"
     ]
    }
   ],
   "source": [
    "score_best_xgb_regressor = kappa(best_xgb,X_valid,y_valid)\n",
    "print('Best XGB Regressor score = ',score_best_xgb_regressor)"
   ]
  },
  {
   "cell_type": "markdown",
   "id": "47efd134",
   "metadata": {
    "papermill": {
     "duration": 0.019761,
     "end_time": "2023-02-15T14:15:37.602131",
     "exception": false,
     "start_time": "2023-02-15T14:15:37.582370",
     "status": "completed"
    },
    "tags": []
   },
   "source": [
    "## Creating submission file "
   ]
  },
  {
   "cell_type": "code",
   "execution_count": 46,
   "id": "caf5e9aa",
   "metadata": {
    "execution": {
     "iopub.execute_input": "2023-02-15T14:15:37.642727Z",
     "iopub.status.busy": "2023-02-15T14:15:37.642380Z",
     "iopub.status.idle": "2023-02-15T14:15:37.772695Z",
     "shell.execute_reply": "2023-02-15T14:15:37.771804Z"
    },
    "papermill": {
     "duration": 0.153297,
     "end_time": "2023-02-15T14:15:37.774979",
     "exception": false,
     "start_time": "2023-02-15T14:15:37.621682",
     "status": "completed"
    },
    "tags": []
   },
   "outputs": [
    {
     "data": {
      "text/plain": [
       "5    599\n",
       "7    346\n",
       "6    315\n",
       "4    105\n",
       "8      7\n",
       "Name: quality, dtype: int64"
      ]
     },
     "execution_count": 46,
     "metadata": {},
     "output_type": "execute_result"
    }
   ],
   "source": [
    "y_cat = best_cat.predict(X_test)\n",
    "y_rf = best_forest.predict(X_test)\n",
    "y_xgb = best_xgb.predict(X_test)\n",
    "\n",
    "# taking the mean of all 3 models to raise the accuracy \n",
    "\n",
    "y_mean = (y_cat+y_rf+y_xgb)/3\n",
    "# rounding the values\n",
    "y_mean = np.round(y_mean,decimals=0).astype(int) \n",
    "df_y_mean = pd.DataFrame({'Id':X_test.index,'quality':y_mean})\n",
    "df_y_mean.to_csv('submission.csv',index=False)\n",
    "df_y_mean['quality'].value_counts()\n"
   ]
  },
  {
   "cell_type": "code",
   "execution_count": null,
   "id": "800927f0",
   "metadata": {
    "papermill": {
     "duration": 0.019523,
     "end_time": "2023-02-15T14:15:37.815609",
     "exception": false,
     "start_time": "2023-02-15T14:15:37.796086",
     "status": "completed"
    },
    "tags": []
   },
   "outputs": [],
   "source": []
  }
 ],
 "metadata": {
  "kernelspec": {
   "display_name": "Python 3",
   "language": "python",
   "name": "python3"
  },
  "language_info": {
   "codemirror_mode": {
    "name": "ipython",
    "version": 3
   },
   "file_extension": ".py",
   "mimetype": "text/x-python",
   "name": "python",
   "nbconvert_exporter": "python",
   "pygments_lexer": "ipython3",
   "version": "3.7.12"
  },
  "papermill": {
   "default_parameters": {},
   "duration": 3483.883792,
   "end_time": "2023-02-15T14:15:40.461212",
   "environment_variables": {},
   "exception": null,
   "input_path": "__notebook__.ipynb",
   "output_path": "__notebook__.ipynb",
   "parameters": {},
   "start_time": "2023-02-15T13:17:36.577420",
   "version": "2.3.4"
  }
 },
 "nbformat": 4,
 "nbformat_minor": 5
}
